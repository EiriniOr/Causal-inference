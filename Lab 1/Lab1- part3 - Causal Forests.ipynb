{
 "cells": [
  {
   "cell_type": "markdown",
   "id": "19079cf6",
   "metadata": {},
   "source": [
    "# Causal Forests\n",
    "A causal machine learning method developed by economists, Susan Athey and Stefan Wager.\n",
    "\n",
    "source: https://towardsdatascience.com/causal-machine-learning-for-econometrics-causal-forests-5ab3aec825a7\n",
    "\n",
    "A causal forest is built from causal trees, where the causal trees learn a low-dimensional representation of treatment effect heterogeneity. "
   ]
  },
  {
   "cell_type": "markdown",
   "id": "b2e5c3fa",
   "metadata": {},
   "source": [
    "### Dataset: Microcredit in Morocco\n",
    "This tutorial uses a microcredit program dataset from a randomized experiment conducted in rural Moroccan villages in 2006 (Crépon et al., 2015). To understand the impact of microcredit availability, certain villages (treatment group) were given access to microcredit and the amount of loans taken at the household level, was measured in relation to the control group, as an indication of the demand for microcredits. There are observable characteristics for each household, and it is possible to condition on these covariates to discover heterogeneity in the causal effect of microcredit.\n",
    "\n",
    "In a preprint released earlier this month through the Social Science Research Network (SSRN), Daniel Jacob surveys the machine learning methods available for estimating CATE, using among others, the Moroccan microcredit dataset as an example. Jacob explains that the goal is to find subgroups based on the covariates, where the treatment effect will be different; however, we do not know which subgroups to focus on and there are many covariates, so machine learning is required to estimate the CATE. The following section covers causal inference and the potential outcomes framework to explain how the CATE is calculated."
   ]
  },
  {
   "cell_type": "markdown",
   "id": "9015809e",
   "metadata": {},
   "source": [
    "### Building Causal Forest"
   ]
  },
  {
   "cell_type": "code",
   "execution_count": null,
   "id": "aed33d59",
   "metadata": {},
   "outputs": [],
   "source": [
    "import pandas as pd\n",
    "from dowhy import CausalModel\n",
    "import econml\n",
    "from IPython.display import Image, display\n",
    "\n",
    "# read Stata .dta file \n",
    "df = pd.read_stata(\"data_rep.dta\")\n",
    "\n",
    "# set variables \n",
    "treatment = 'treatment'\n",
    "outcome = 'loansamt_total'\n",
    "covariates = [\"members_resid_bl\", \"nadults_resid_bl\", \"head_age_bl\", \"act_livestock_bl\", \"act_business_bl\",\n",
    "              \"borrowed_total_bl\", \"members_resid_d_bl\", \"nadults_resid_d_bl\", \"head_age_d_bl\",\n",
    "              \"act_livestock_d_bl\", \"act_business_d_bl\", \"borrowed_total_d_bl\", \"ccm_resp_activ\",\n",
    "              \"other_resp_activ\", \"ccm_resp_activ_d\", \"other_resp_activ_d\", \"head_educ_1\", \"nmember_age6_16\"]\n",
    "\n",
    "# build causal graph with dowhy \n",
    "model = CausalModel(\n",
    "    data=df,\n",
    "    treatment=treatment, \n",
    "    outcome=outcome, \n",
    "    common_causes=covariates, \n",
    "    instruments=None, \n",
    "    effect_modifiers=None)\n",
    "model.view_model()\n",
    "#display(Image(filename=\"causal_model.png\"))"
   ]
  },
  {
   "cell_type": "code",
   "execution_count": null,
   "id": "9fb3a7dd",
   "metadata": {},
   "outputs": [],
   "source": [
    "import numpy as np\n",
    "from sklearn.model_selection import train_test_split\n",
    "\n",
    "# drop missing data \n",
    "all_variables = [treatment]+[outcome]+covariates\n",
    "df = df.dropna(axis=0, subset=all_variables)\n",
    "print(df.shape)\n",
    "# split data into train and test sets \n",
    "train, test = train_test_split(df, test_size=0.2)\n",
    "\n",
    "# set variables for causal forest Y=outcome, T=treatment, X=covariates, W=effect_modifiers \n",
    "Y = train[outcome]\n",
    "T = train[treatment]\n",
    "X = train[covariates]\n",
    "W = None\n",
    "X_test = test[covariates]"
   ]
  },
  {
   "cell_type": "code",
   "execution_count": null,
   "id": "c494e0db",
   "metadata": {},
   "outputs": [],
   "source": [
    "from econml.dml import CausalForestDML\n",
    "from sklearn.linear_model import MultiTaskLassoCV\n",
    "from sklearn.linear_model import LassoCV\n",
    "from econml.sklearn_extensions.linear_model import DebiasedLasso\n",
    "\n",
    "\n",
    "# set parameters for causal forest \n",
    "causal_forest = CausalForestDML(criterion='het', \n",
    "                                n_estimators=10000,       \n",
    "                                min_samples_leaf=10, \n",
    "                                max_depth=None, \n",
    "                                max_samples=0.5,\n",
    "                                discrete_treatment=False,\n",
    "                                honest=True,\n",
    "                                inference=True,\n",
    "                                cv=10,\n",
    "                                model_t=LassoCV(), \n",
    "                                model_y=LassoCV(),\n",
    "                                )\n",
    "                      \n",
    "# fit train data to causal forest model \n",
    "causal_forest.fit(Y, T, X=X, W=W)\n",
    "# estimate the CATE with the test set \n",
    "causal_forest.const_marginal_ate(X_test)"
   ]
  },
  {
   "cell_type": "markdown",
   "id": "aa983b21",
   "metadata": {},
   "source": [
    "The ground truth average CATE was reported to be around 1300. The causal forest built here will return CATE values between 1100 and 1200."
   ]
  },
  {
   "cell_type": "code",
   "execution_count": null,
   "id": "32125921",
   "metadata": {},
   "outputs": [],
   "source": [
    "import shap\n",
    "from econml.dml import CausalForestDML\n",
    "\n",
    "# fit causal forest with default parameters \n",
    "causal_forest = CausalForestDML()\n",
    "causal_forest.fit(Y, T, X=X, W=W)"
   ]
  },
  {
   "cell_type": "code",
   "execution_count": null,
   "id": "3bce5b54",
   "metadata": {},
   "outputs": [],
   "source": [
    "# calculate shap values of causal forest model \n",
    "shap_values = causal_forest.shap_values(X)\n",
    "# plot shap values \n",
    "#print(shap_values['loansamt_total']['treatment'])\n",
    "shap.summary_plot(shap_values['loansamt_total']['treatment'])"
   ]
  },
  {
   "cell_type": "markdown",
   "id": "e0dcf149",
   "metadata": {},
   "source": [
    "The feature (covariate) that had the greatest importance was the age of the head of the household, followed by the number of children aged 6 to 16 in the household. It appears that household age featured importantly when the average causal effect was negative. This helps identify subgroups, for example, feature importance suggests that older and younger households should be evaluated separately to estimate the CATE."
   ]
  },
  {
   "cell_type": "code",
   "execution_count": null,
   "id": "deaad2f8",
   "metadata": {},
   "outputs": [],
   "source": [
    "\n",
    "# use causal forest model to estimate treatment effects  \n",
    "treatment_effects = causal_forest.effect(X)\n",
    "# calculate lower bound and upper bound confidence intervals \n",
    "lb, ub = causal_forest.effect_interval(X, alpha=0.05)\n",
    "\n",
    "# convert arrays to pandas dataframes for plotting\n",
    "te_df = pd.DataFrame(treatment_effects, columns=['cate'])\n",
    "lb_df = pd.DataFrame(lb, columns=['lb'])\n",
    "ub_df = pd.DataFrame(ub, columns=['ub'])\n",
    "\n",
    "# merge dataframes and sort \n",
    "df = pd.concat([te_df, lb_df, ub_df], axis =1)\n",
    "#df = te_df\n",
    "df.sort_values('cate', inplace=True, ascending=True)\n",
    "df.reset_index(inplace=True, drop=True)\n",
    "\n",
    "# calculate rolling mean\n",
    "z = df.rolling(window=30, center=True).mean()"
   ]
  },
  {
   "cell_type": "code",
   "execution_count": null,
   "id": "f8d8fce7",
   "metadata": {},
   "outputs": [],
   "source": [
    "\n",
    "import matplotlib.pyplot as plt\n",
    "\n",
    "# set plot size\n",
    "fig, ax = plt.subplots(figsize=(12, 8))\n",
    "# plot lines for treatment effects and confidence intervals\n",
    "ax.plot(z['cate'],\n",
    "        marker='.', linestyle='-', linewidth=0.5, label='CATE', color='indigo')\n",
    "ax.plot(z['lb'],\n",
    "        marker='.', linestyle='-', linewidth=0.5, color='steelblue')\n",
    "ax.plot(z['ub'],\n",
    "        marker='.', linestyle='-', linewidth=0.5, color='steelblue')\n",
    "# label axes and create legend\n",
    "ax.set_ylabel('Treatment Effects')\n",
    "ax.set_xlabel('Number of observations')\n",
    "ax.legend()"
   ]
  },
  {
   "cell_type": "code",
   "execution_count": null,
   "id": "a41da3b6",
   "metadata": {},
   "outputs": [],
   "source": []
  }
 ],
 "metadata": {
  "kernelspec": {
   "display_name": "Python 3 (ipykernel)",
   "language": "python",
   "name": "python3"
  },
  "language_info": {
   "codemirror_mode": {
    "name": "ipython",
    "version": 3
   },
   "file_extension": ".py",
   "mimetype": "text/x-python",
   "name": "python",
   "nbconvert_exporter": "python",
   "pygments_lexer": "ipython3",
   "version": "3.9.7"
  }
 },
 "nbformat": 4,
 "nbformat_minor": 5
}
