{
 "cells": [
  {
   "cell_type": "markdown",
   "id": "46f14541",
   "metadata": {},
   "source": [
    "## Conditional independent test\n",
    "### Binary variables"
   ]
  },
  {
   "cell_type": "code",
   "execution_count": 1,
   "id": "1e2028c5",
   "metadata": {},
   "outputs": [],
   "source": [
    "import pandas as pd\n",
    "import numpy as np\n",
    "from numpy import random\n",
    "import seaborn as sns"
   ]
  },
  {
   "cell_type": "code",
   "execution_count": 2,
   "id": "02dd97b3",
   "metadata": {},
   "outputs": [],
   "source": [
    "#! pip install gsq \n",
    "\n",
    "# This package contains conditional independence test functions using the G-square test.\n",
    "import gsq\n",
    "\n",
    "#importing conditional independent test for binary and discreet variables\n",
    "from gsq.ci_tests import ci_test_bin, ci_test_dis "
   ]
  },
  {
   "cell_type": "markdown",
   "id": "04879b97",
   "metadata": {},
   "source": [
    "Creating a dataset"
   ]
  },
  {
   "cell_type": "code",
   "execution_count": 3,
   "id": "a20f3c34",
   "metadata": {},
   "outputs": [
    {
     "data": {
      "text/plain": [
       "(10000, 3)"
      ]
     },
     "execution_count": 3,
     "metadata": {},
     "output_type": "execute_result"
    }
   ],
   "source": [
    "## Generating a dataset\n",
    "samples = 10000\n",
    "\n",
    "# Generate a uniform distribution between low and high:\n",
    "X = np.random.randint(low=0, high=2, size=samples)\n",
    "Y = np.random.randint(low=0, high=2, size=samples)\n",
    "Z = X | Y\n",
    "\n",
    "chain = np.vstack((X, Y, Z)).T\n",
    "\n",
    "chain.shape"
   ]
  },
  {
   "cell_type": "markdown",
   "id": "74426b24",
   "metadata": {},
   "source": [
    "To test whether X is conditionally independent of \n",
    "Y given Z using the binary G-square test, all you need to do is:"
   ]
  },
  {
   "cell_type": "code",
   "execution_count": 5,
   "id": "c3603ae4",
   "metadata": {},
   "outputs": [
    {
     "data": {
      "text/plain": [
       "0.0"
      ]
     },
     "execution_count": 5,
     "metadata": {},
     "output_type": "execute_result"
    }
   ],
   "source": [
    "ci_test_bin(chain, 0 , 1, set([2]))"
   ]
  },
  {
   "cell_type": "markdown",
   "id": "b9bfca02",
   "metadata": {},
   "source": [
    "ci_test_bin return a P-value. If we define a threshold of 0.05, we can observe that the p-value is clearly below this threshold. we can reject the null hypothesis that the X is conditionally independent of Y given Z. This means that X is conditionally dependent of Y given Z. \n",
    "\n"
   ]
  },
  {
   "cell_type": "markdown",
   "id": "61bfa127",
   "metadata": {},
   "source": [
    "<div class=\"alert alert-block alert-warning\">\n",
    "    \n",
    "Task 1: Calculate the following conditional indetendent test using binary G-square test:\n",
    "- test whether X is independent of Y\n",
    "- test whether X is independent of Z\n",
    "- test whether Y is independent of Z\n",
    "- test whether X is conditionally independent of Z given Y \n",
    "- test whether Y is conditionally independent of Z given X\n",
    "\n",
    "</div>"
   ]
  },
  {
   "cell_type": "code",
   "execution_count": 29,
   "id": "b3ccb78d",
   "metadata": {},
   "outputs": [
    {
     "name": "stdout",
     "output_type": "stream",
     "text": [
      "Test X independent of Y p-value: 0.16061183416541341\n",
      "Independent\n"
     ]
    }
   ],
   "source": [
    "# Test whether X is independent of Y\n",
    "p_value_x_y = ci_test_bin(chain, 0, 1, set())\n",
    "print(f\"Test X independent of Y p-value: {p_value_x_y}\")\n",
    "if p_value_x_y>=0.05:\n",
    "    print(\"Independent\")\n",
    "else: print(\"Dependent\")"
   ]
  },
  {
   "cell_type": "code",
   "execution_count": 31,
   "id": "0dc0b0fa",
   "metadata": {},
   "outputs": [
    {
     "name": "stdout",
     "output_type": "stream",
     "text": [
      "Test X independent of Z p-value: 0.0\n",
      "Dependent\n"
     ]
    }
   ],
   "source": [
    "# Test whether X is independent of Z\n",
    "p_value_x_z = ci_test_bin(chain, 0, 2, set())\n",
    "print(f\"Test X independent of Z p-value: {p_value_x_z}\")\n",
    "if p_value_x_z>=0.05:\n",
    "    print(\"Independent\")\n",
    "else: print(\"Dependent\")"
   ]
  },
  {
   "cell_type": "code",
   "execution_count": 32,
   "id": "598de4fe",
   "metadata": {},
   "outputs": [
    {
     "name": "stdout",
     "output_type": "stream",
     "text": [
      "Test Y independent of Z p-value: 0.0\n",
      "Dependent\n"
     ]
    }
   ],
   "source": [
    "# Test whether Y is independent of Z\n",
    "p_value_y_z = ci_test_bin(chain, 1, 2, set())\n",
    "print(f\"Test Y independent of Z p-value: {p_value_y_z}\")\n",
    "if p_value_y_z>=0.05:\n",
    "    print(\"Independent\")\n",
    "else: print(\"Dependent\")"
   ]
  },
  {
   "cell_type": "code",
   "execution_count": 34,
   "id": "9c8838dc",
   "metadata": {},
   "outputs": [
    {
     "name": "stdout",
     "output_type": "stream",
     "text": [
      "Test X conditionally independent of Z given Y p-value: 0.0\n",
      "Conditionally dependent\n"
     ]
    }
   ],
   "source": [
    "# Test whether X is conditionally independent of Z given Y\n",
    "p_value_x_z_given_y = ci_test_bin(chain, 0, 2, set([1]))\n",
    "print(f\"Test X conditionally independent of Z given Y p-value: {p_value_x_z_given_y}\")\n",
    "if p_value_x_z_given_y>=0.05:\n",
    "    print(\"Conditionally independent\")\n",
    "else: print(\"Conditionally dependent\")"
   ]
  },
  {
   "cell_type": "code",
   "execution_count": 35,
   "id": "1051b293",
   "metadata": {},
   "outputs": [
    {
     "name": "stdout",
     "output_type": "stream",
     "text": [
      "Test Y conditionally independent of Z given X p-value: 0.0\n",
      "Conditionally dependent\n"
     ]
    }
   ],
   "source": [
    "# Test whether Y is conditionally independent of Z given X\n",
    "p_value_y_z_given_x = ci_test_bin(chain, 1, 2, set([0]))\n",
    "print(f\"Test Y conditionally independent of Z given X p-value: {p_value_y_z_given_x}\")\n",
    "if p_value_y_z_given_x>=0.05:\n",
    "    print(\"Conditionally independent\")\n",
    "else: print(\"Conditionally dependent\")"
   ]
  },
  {
   "cell_type": "markdown",
   "id": "32620e5e",
   "metadata": {},
   "source": [
    "<div class=\"alert alert-block alert-warning\">\n",
    "    \n",
    "Task 2: Given the above tests, can you explain the causal relation between variables corresponds to chain, fork or v-structure(Collider)? Why?\n",
    "\n",
    "</div>"
   ]
  },
  {
   "cell_type": "code",
   "execution_count": 28,
   "id": "16b648e7",
   "metadata": {},
   "outputs": [
    {
     "name": "stdout",
     "output_type": "stream",
     "text": [
      "hi\n"
     ]
    }
   ],
   "source": [
    "#Y and X are independent of Z, but conditionally dependent on Z each other, which means that they form a collider on Z.\n",
    "#Because the relationship changes when we condition, collider is the only case.\n"
   ]
  },
  {
   "cell_type": "markdown",
   "id": "72ff2c11",
   "metadata": {},
   "source": [
    "### Continues variables "
   ]
  },
  {
   "cell_type": "code",
   "execution_count": 6,
   "id": "0e5f35cf",
   "metadata": {},
   "outputs": [],
   "source": [
    "import dowhy.gcm as gcm"
   ]
  },
  {
   "cell_type": "code",
   "execution_count": 7,
   "id": "3a4622a5",
   "metadata": {},
   "outputs": [],
   "source": [
    "samples = 10000\n",
    "X = np.random.normal(loc=0, scale=1, size=samples)\n",
    "Y = 2 * X + np.random.normal(loc=0, scale=1, size=samples)\n",
    "Z = 3 * Y + np.random.normal(loc=0, scale=1, size=samples)\n",
    "data = pd.DataFrame(data=dict(X=X, Y=Y, Z=Z))"
   ]
  },
  {
   "cell_type": "code",
   "execution_count": 8,
   "id": "da7f79df",
   "metadata": {},
   "outputs": [
    {
     "data": {
      "image/png": "[encoded data removed]",
      "text/latex": [
       "$\\displaystyle 0.195082103226362$"
      ],
      "text/plain": [
       "0.195082103226362"
      ]
     },
     "execution_count": 8,
     "metadata": {},
     "output_type": "execute_result"
    }
   ],
   "source": [
    "# Null hypothesis: x is independent of y given z\n",
    "p_value = gcm.independence_test(X, Z, conditioned_on=Y)\n",
    "p_value"
   ]
  },
  {
   "cell_type": "markdown",
   "id": "f2f01775",
   "metadata": {},
   "source": [
    "If we define a threshold of 0.05 (as is often done as a good default), and the p-value is clearly above this, it says  X and Z are indeed independent when we condition on Y. "
   ]
  },
  {
   "cell_type": "code",
   "execution_count": 9,
   "id": "97e80bef",
   "metadata": {},
   "outputs": [
    {
     "data": {
      "image/png": "[encoded data removed]",
      "text/latex": [
       "$\\displaystyle 0.0$"
      ],
      "text/plain": [
       "0.0"
      ]
     },
     "execution_count": 9,
     "metadata": {},
     "output_type": "execute_result"
    }
   ],
   "source": [
    "# Null hypothesis: x is independent of y\n",
    "p_value = gcm.independence_test(X, Z)\n",
    "p_value\n",
    "0.0"
   ]
  },
  {
   "cell_type": "markdown",
   "id": "78d1ff15",
   "metadata": {},
   "source": [
    "Again, we can define a threshold of 0.05, but this time the p-value is clearly below this threshold. This says \n",
    "X and Z are dependent on each other."
   ]
  },
  {
   "cell_type": "markdown",
   "id": "17f111ff",
   "metadata": {},
   "source": [
    "## Markov equivalence class\n",
    "**Theorem (Verma & Pearl, 1991)**\n",
    "\n",
    "Two DAGs D1 and D2 are Markov equivalent if and only if they have the same skeleton and the same v-structures.\n",
    "- DAG: Directed acyclic graph\n",
    "- skeleton: the underlying undirected graph\n",
    "- v-structure = collider = immorality = u → w ← z"
   ]
  },
  {
   "cell_type": "code",
   "execution_count": 10,
   "id": "f339a5cb",
   "metadata": {},
   "outputs": [
    {
     "data": {
      "image/png": "[encoded data removed]",
      "text/latex": [
       "$\\displaystyle \\left( 10000, \\  3\\right)$"
      ],
      "text/plain": [
       "(10000, 3)"
      ]
     },
     "execution_count": 10,
     "metadata": {},
     "output_type": "execute_result"
    }
   ],
   "source": [
    "## Generating the linear dataset\n",
    "samples = 10000\n",
    "\n",
    "# Generate a uniform distribution between low and high:\n",
    "X = np.random.randint(low=0, high=2, size=samples)\n",
    "\n",
    "##np.random.seed(1)\n",
    "noise_indices = np.random.randint(low=int(samples/2), high=samples, size=int(samples * 0.1))\n",
    "Y = X.copy() \n",
    "Y[noise_indices]=1#np.abs(1-Y[noise_indices])\n",
    "\n",
    "##np.random.seed(32)\n",
    "noise_indices = np.random.randint(low=0, high=int(samples/2), size=int(samples * 0.2))\n",
    "Z = Y.copy()\n",
    "Z[noise_indices]=1\n",
    "\n",
    "chain = np.vstack((X, Y, Z)).T\n",
    "\n",
    "chain.shape"
   ]
  },
  {
   "cell_type": "code",
   "execution_count": 11,
   "id": "11858f44",
   "metadata": {},
   "outputs": [
    {
     "name": "stderr",
     "output_type": "stream",
     "text": [
      "/Users/rena/anaconda3/lib/python3.11/site-packages/gsq/binary.py:67: RuntimeWarning: invalid value encountered in divide\n",
      "  tlog[:,:,k] = nijk[:,:,k] * nk[k] / tdijk\n",
      "/Users/rena/anaconda3/lib/python3.11/site-packages/gsq/binary.py:148: RuntimeWarning: divide by zero encountered in log\n",
      "  log_tlog = np.log(tlog)\n",
      "/Users/rena/anaconda3/lib/python3.11/site-packages/gsq/binary.py:149: RuntimeWarning: invalid value encountered in multiply\n",
      "  G2 = np.nansum(2 * nijk * log_tlog)\n"
     ]
    },
    {
     "data": {
      "image/png": "[encoded data removed]",
      "text/latex": [
       "$\\displaystyle 0.0$"
      ],
      "text/plain": [
       "0.0"
      ]
     },
     "execution_count": 11,
     "metadata": {},
     "output_type": "execute_result"
    }
   ],
   "source": [
    "ci_test_bin(chain, 0 , 1, set([2]))"
   ]
  },
  {
   "cell_type": "code",
   "execution_count": 12,
   "id": "176d5bf3",
   "metadata": {},
   "outputs": [
    {
     "name": "stderr",
     "output_type": "stream",
     "text": [
      "/Users/rena/anaconda3/lib/python3.11/site-packages/gsq/binary.py:67: RuntimeWarning: invalid value encountered in divide\n",
      "  tlog[:,:,k] = nijk[:,:,k] * nk[k] / tdijk\n"
     ]
    },
    {
     "data": {
      "image/png": "[encoded data removed]",
      "text/latex": [
       "$\\displaystyle 1.0$"
      ],
      "text/plain": [
       "1.0"
      ]
     },
     "execution_count": 12,
     "metadata": {},
     "output_type": "execute_result"
    }
   ],
   "source": [
    "ci_test_bin(chain, 0 , 2, set([1]))"
   ]
  },
  {
   "cell_type": "code",
   "execution_count": 13,
   "id": "0087ecc1",
   "metadata": {},
   "outputs": [
    {
     "name": "stderr",
     "output_type": "stream",
     "text": [
      "/Users/rena/anaconda3/lib/python3.11/site-packages/gsq/binary.py:67: RuntimeWarning: invalid value encountered in divide\n",
      "  tlog[:,:,k] = nijk[:,:,k] * nk[k] / tdijk\n",
      "/Users/rena/anaconda3/lib/python3.11/site-packages/gsq/binary.py:148: RuntimeWarning: divide by zero encountered in log\n",
      "  log_tlog = np.log(tlog)\n",
      "/Users/rena/anaconda3/lib/python3.11/site-packages/gsq/binary.py:149: RuntimeWarning: invalid value encountered in multiply\n",
      "  G2 = np.nansum(2 * nijk * log_tlog)\n"
     ]
    },
    {
     "data": {
      "image/png": "[encoded data removed]",
      "text/latex": [
       "$\\displaystyle 0.0$"
      ],
      "text/plain": [
       "0.0"
      ]
     },
     "execution_count": 13,
     "metadata": {},
     "output_type": "execute_result"
    }
   ],
   "source": [
    "ci_test_bin(chain, 0 , 1, set([2]))"
   ]
  },
  {
   "cell_type": "code",
   "execution_count": null,
   "id": "485b8154-be4d-43bb-a44a-0bf1dc160458",
   "metadata": {},
   "outputs": [],
   "source": []
  }
 ],
 "metadata": {
  "kernelspec": {
   "display_name": "Python 3 (ipykernel)",
   "language": "python",
   "name": "python3"
  },
  "language_info": {
   "codemirror_mode": {
    "name": "ipython",
    "version": 3
   },
   "file_extension": ".py",
   "mimetype": "text/x-python",
   "name": "python",
   "nbconvert_exporter": "python",
   "pygments_lexer": "ipython3",
   "version": "3.11.7"
  }
 },
 "nbformat": 4,
 "nbformat_minor": 5
}
